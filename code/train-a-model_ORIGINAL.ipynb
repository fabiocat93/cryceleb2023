{
  "cells": [
    {
      "cell_type": "markdown",
      "metadata": {
        "id": "fvP3aM0oMKvT"
      },
      "source": [
        "# Fine-tuning ECAPA-TDNN on  [CryCeleb2023](https://huggingface.co/spaces/competitions/CryCeleb2023) using [SpeechBrain](https://speechbrain.readthedocs.io)\n",
        "\n",
        "This notebook should help you get started training your own models for CryCeleb2023 challenge.\n",
        "\n",
        "Note that it is provides basic example for simplicity and speed.\n",
        "\n",
        "Author: David Budaghyan (Ubenwa)\n"
      ]
    },
    {
      "cell_type": "markdown",
      "metadata": {
        "id": "xLoVtmTDGVby"
      },
      "source": [
        "### Imports"
      ]
    },
    {
      "cell_type": "code",
      "execution_count": null,
      "metadata": {
        "id": "c-5VaQGz7vzo"
      },
      "outputs": [],
      "source": [
        "# For Colab - uncomment and run the following to set up the repo\n",
        "# !pip install speechbrain\n",
        "# !git clone https://github.com/Ubenwa/cryceleb2023.git\n",
        "# %cd cryceleb2023"
      ]
    },
    {
      "cell_type": "code",
      "execution_count": null,
      "metadata": {
        "id": "5k7MiTJsK2Ba"
      },
      "outputs": [],
      "source": [
        "%%capture\n",
        "%load_ext autoreload\n",
        "%autoreload 2\n",
        "\n",
        "import pathlib\n",
        "import random\n",
        "\n",
        "import numpy as np\n",
        "import pandas as pd\n",
        "import seaborn as sns\n",
        "import speechbrain as sb\n",
        "import torch\n",
        "from huggingface_hub import hf_hub_download\n",
        "from hyperpyyaml import load_hyperpyyaml\n",
        "from IPython.display import display\n",
        "from speechbrain.dataio.dataio import read_audio, write_audio\n",
        "from speechbrain.dataio.dataset import DynamicItemDataset\n",
        "from speechbrain.dataio.encoder import CategoricalEncoder\n",
        "\n",
        "from crybrain import CryBrain, download_data\n",
        "\n",
        "dataset_path = \"data\""
      ]
    },
    {
      "cell_type": "markdown",
      "metadata": {
        "id": "oBhuztrjHQX8"
      },
      "source": [
        "### Download data\n",
        "\n",
        "You need to log in to HuggingFace to be able to download the dataset"
      ]
    },
    {
      "cell_type": "code",
      "execution_count": null,
      "metadata": {
        "id": "Du5UrdEgKx7a"
      },
      "outputs": [],
      "source": [
        "from huggingface_hub import notebook_login\n",
        "\n",
        "notebook_login()"
      ]
    },
    {
      "cell_type": "code",
      "execution_count": null,
      "metadata": {
        "id": "kQHG3xio7vzq"
      },
      "outputs": [],
      "source": [
        "download_data(dataset_path)"
      ]
    },
    {
      "cell_type": "code",
      "execution_count": null,
      "metadata": {
        "id": "JrT1EvuiLjlr"
      },
      "outputs": [],
      "source": [
        "# read metadata\n",
        "metadata = pd.read_csv(\n",
        "    f\"{dataset_path}/metadata.csv\", dtype={\"baby_id\": str, \"chronological_index\": str}\n",
        ")\n",
        "train_metadata = metadata.loc[metadata[\"split\"] == \"train\"].copy()\n",
        "display(\n",
        "    train_metadata.head()\n",
        "    .style.set_caption(\"train_metadata\")\n",
        "    .set_table_styles([{\"selector\": \"caption\", \"props\": [(\"font-size\", \"20px\")]}])\n",
        ")\n",
        "display(train_metadata.describe())"
      ]
    },
    {
      "cell_type": "markdown",
      "metadata": {
        "id": "nX6q3zCxtaQa"
      },
      "source": [
        "### Concatenate cry sounds\n",
        "\n",
        "We are given short cry sounds for each baby. Here we simply concatenate them. "
      ]
    },
    {
      "cell_type": "code",
      "execution_count": null,
      "metadata": {
        "id": "bUTe9QqwRqE-"
      },
      "outputs": [],
      "source": [
        "# read the segments\n",
        "train_metadata[\"cry\"] = train_metadata.apply(\n",
        "    lambda row: read_audio(f'{dataset_path}/{row[\"file_name\"]}').numpy(), axis=1\n",
        ")\n",
        "# concatenate all segments for each (baby_id, period) group\n",
        "manifest_df = pd.DataFrame(\n",
        "    train_metadata.groupby([\"baby_id\", \"period\"])[\"cry\"].agg(lambda x: np.concatenate(x.values)),\n",
        "    columns=[\"cry\"],\n",
        ").reset_index()\n",
        "# all files have 16000 sampling rate\n",
        "manifest_df[\"duration\"] = manifest_df[\"cry\"].apply(len) / 16000\n",
        "pathlib.Path(f\"{dataset_path}/concatenated_audio_train\").mkdir(exist_ok=True)\n",
        "manifest_df[\"file_path\"] = manifest_df.apply(\n",
        "    lambda row: f\"{dataset_path}/concatenated_audio_train/{row['baby_id']}_{row['period']}.wav\",\n",
        "    axis=1,\n",
        ")\n",
        "manifest_df.apply(\n",
        "    lambda row: write_audio(\n",
        "        filepath=f'{row[\"file_path\"]}', audio=torch.tensor(row[\"cry\"]), samplerate=16000\n",
        "    ),\n",
        "    axis=1,\n",
        ")\n",
        "manifest_df = manifest_df.drop(columns=[\"cry\"])\n",
        "display(manifest_df)\n",
        "ax = sns.histplot(manifest_df, x=\"duration\")\n",
        "ax.set_title(\"Histogram of Concatenated Cry Sound Lengths\")"
      ]
    },
    {
      "cell_type": "markdown",
      "metadata": {
        "id": "VkSUzjG47vzs"
      },
      "source": [
        "During training, we will extract random cuts of 3-5 seconds from concatenated audio"
      ]
    },
    {
      "cell_type": "code",
      "execution_count": null,
      "metadata": {
        "id": "8fqkEktdRRXf"
      },
      "outputs": [],
      "source": [
        "def create_cut_length_interval(row, cut_length_interval):\n",
        "    \"\"\"cut_length_interval is a tuple indicating the range of lengths we want our chunks to be.\n",
        "    this function computes the valid range of chunk lengths for each audio file\n",
        "    \"\"\"\n",
        "    # the lengths are in seconds, convert them to frames\n",
        "    cut_length_interval = [round(length * 16000) for length in cut_length_interval]\n",
        "    cry_length = round(row[\"duration\"] * 16000)\n",
        "    # make the interval valid for the specific sound file\n",
        "    min_cut_length, max_cut_length = cut_length_interval\n",
        "    # if min_cut_length is greater than length of cry, don't cut\n",
        "    if min_cut_length >= cry_length:\n",
        "        cut_length_interval = (cry_length, cry_length)\n",
        "    # if max_cut_length is greater than length of cry, take a cut of length between min_cut_length and full length of cry\n",
        "    elif max_cut_length >= cry_length:\n",
        "        cut_length_interval = (min_cut_length, cry_length)\n",
        "    return cut_length_interval\n",
        "\n",
        "\n",
        "cut_length_interval = (3, 5)\n",
        "manifest_df[\"cut_length_interval_in_frames\"] = manifest_df.apply(\n",
        "    lambda row: create_cut_length_interval(row, cut_length_interval=cut_length_interval), axis=1\n",
        ")"
      ]
    },
    {
      "cell_type": "markdown",
      "metadata": {
        "id": "VS6R0uA2tpAJ"
      },
      "source": [
        "### Split into train and val\n",
        "\n",
        "For training a classfier, we can split the data into train/val in any way, as long as val does not contain new classes\n",
        "\n",
        "One way to split is to split by period: train on birth recordings and validate on discharge"
      ]
    },
    {
      "cell_type": "code",
      "execution_count": null,
      "metadata": {
        "id": "KceQZp_pga34"
      },
      "outputs": [],
      "source": [
        "# we can train on any subset of babies (e.g. to reduce the number of classes, only keep babies with long enough cries, etc)\n",
        "def get_babies_with_both_recordings(manifest_df):\n",
        "    count_of_periods_per_baby = manifest_df.groupby(\"baby_id\")[\"period\"].count()\n",
        "    baby_ids_with_recording_from_both_periods = count_of_periods_per_baby[\n",
        "        count_of_periods_per_baby == 2\n",
        "    ].index\n",
        "    return baby_ids_with_recording_from_both_periods\n",
        "\n",
        "\n",
        "# def get_babies_with_a_birth_recording(manifest_df):\n",
        "#   bool_series = manifest_df.groupby('baby_id')['period'].unique().apply(set(['B']).issubset)\n",
        "#   baby_ids_with_a_recordings_from_birth = bool_series[bool_series].index\n",
        "#   return baby_ids_with_a_recordings_from_birth\n",
        "\n",
        "\n",
        "def split_by_period(row, included_baby_ids):\n",
        "    if row[\"baby_id\"] in included_baby_ids:\n",
        "        if row[\"period\"] == \"B\":\n",
        "            return \"train\"\n",
        "        else:\n",
        "            return \"val\"\n",
        "    else:\n",
        "        return \"not_used\"\n",
        "\n",
        "\n",
        "babies_with_both_recordings = get_babies_with_both_recordings(manifest_df)\n",
        "manifest_df[\"split\"] = manifest_df.apply(\n",
        "    lambda row: split_by_period(row, included_baby_ids=babies_with_both_recordings), axis=1\n",
        ")\n",
        "\n",
        "# each instance will be identified with a unique id\n",
        "manifest_df[\"id\"] = manifest_df[\"baby_id\"] + \"_\" + manifest_df[\"period\"]\n",
        "display(manifest_df)\n",
        "display(\n",
        "    manifest_df[\"split\"]\n",
        "    .value_counts()\n",
        "    .rename(\"use_babies_with_both_recordings_and_split_by_period\")\n",
        ")\n",
        "manifest_df.set_index(\"id\").to_json(\"manifest.json\", orient=\"index\")"
      ]
    },
    {
      "cell_type": "markdown",
      "metadata": {
        "id": "N2X-8Zs2-Mhm"
      },
      "source": [
        "### Create dynamic datasets\n",
        "\n",
        "See SpeechBrain documentation to understand details"
      ]
    },
    {
      "cell_type": "code",
      "execution_count": null,
      "metadata": {
        "id": "1NxmeLy_fj99"
      },
      "outputs": [],
      "source": [
        "# create a dynamic dataset from the csv, only used to create train and val datasets\n",
        "dataset = DynamicItemDataset.from_json(\"manifest.json\")\n",
        "baby_id_encoder = CategoricalEncoder()\n",
        "datasets = {}\n",
        "# create a dataset for each split\n",
        "for split in [\"train\", \"val\"]:\n",
        "    # retrieve the desired slice (train or val) and sort by length to minimize amount of padding\n",
        "    datasets[split] = dataset.filtered_sorted(\n",
        "        key_test={\"split\": lambda value: value == split}, sort_key=\"duration\"\n",
        "    )  # select_n=100\n",
        "    # create the baby_id_encoded field\n",
        "    datasets[split].add_dynamic_item(\n",
        "        baby_id_encoder.encode_label_torch, takes=\"baby_id\", provides=\"baby_id_encoded\"\n",
        "    )\n",
        "    # set visible fields\n",
        "    datasets[split].set_output_keys([\"id\", \"baby_id\", \"baby_id_encoded\", \"sig\"])\n",
        "\n",
        "\n",
        "# create the signal field for the val split (no chunking)\n",
        "datasets[\"val\"].add_dynamic_item(sb.dataio.dataio.read_audio, takes=\"file_path\", provides=\"sig\")\n",
        "\n",
        "# the label encoder will map the baby_ids to target classes 0, 1, 2, ...\n",
        "# only use the classes which appear in `train`,\n",
        "baby_id_encoder.update_from_didataset(datasets[\"train\"], \"baby_id\")\n",
        "\n",
        "\n",
        "# for reading the train split, we add chunking\n",
        "def audio_pipeline(file_path, cut_length_interval_in_frames):\n",
        "    \"\"\"Load the signal, and pass it and its length to the corruption class.\n",
        "    This is done on the CPU in the `collate_fn`.\"\"\"\n",
        "    sig = sb.dataio.dataio.read_audio(file_path)\n",
        "    if cut_length_interval_in_frames is not None:\n",
        "        cut_length = random.randint(*cut_length_interval_in_frames)\n",
        "        # pick the start index of the cut\n",
        "        left_index = random.randint(0, len(sig) - cut_length)\n",
        "        # cut the signal\n",
        "        sig = sig[left_index : left_index + cut_length]\n",
        "    return sig\n",
        "\n",
        "\n",
        "# create the signal field (with chunking)\n",
        "datasets[\"train\"].add_dynamic_item(\n",
        "    audio_pipeline, takes=[\"file_path\", \"cut_length_interval_in_frames\"], provides=\"sig\"\n",
        ")\n",
        "\n",
        "print(datasets[\"train\"][0])"
      ]
    },
    {
      "cell_type": "markdown",
      "metadata": {
        "id": "bbwH78P8_TOd"
      },
      "source": [
        "### Fine-tune the classifier\n",
        "\n",
        "Here we use a very basic example that just trains for 5 epochs"
      ]
    },
    {
      "cell_type": "code",
      "execution_count": null,
      "metadata": {
        "id": "ixojL5uH5y1V"
      },
      "outputs": [],
      "source": [
        "config_filename = \"hparams/ecapa_voxceleb_basic.yaml\"\n",
        "overrides = {\n",
        "    \"seed\": 3011,\n",
        "    \"n_classes\": len(baby_id_encoder),\n",
        "    \"experiment_name\": \"ecapa_voxceleb_ft_basic\",\n",
        "    \"bs\": 32,\n",
        "    \"n_epochs\": 5,\n",
        "}\n",
        "device = \"cuda\"\n",
        "run_opts = {\"device\": device}\n",
        "###########################################\n",
        "# Load hyperparameters file with command-line overrides.\n",
        "with open(config_filename) as fin:\n",
        "    hparams = load_hyperpyyaml(fin, overrides)\n",
        "# Create experiment directory\n",
        "sb.create_experiment_directory(\n",
        "    experiment_directory=hparams[\"experiment_dir\"],\n",
        "    hyperparams_to_save=config_filename,\n",
        "    overrides=overrides,\n",
        ")\n",
        "\n",
        "# Initialize the Brain object to prepare for training.\n",
        "crybrain = CryBrain(\n",
        "    modules=hparams[\"modules\"],\n",
        "    opt_class=hparams[\"opt_class\"],\n",
        "    hparams=hparams,\n",
        "    run_opts=run_opts,\n",
        "    checkpointer=hparams[\"checkpointer\"],\n",
        ")\n",
        "\n",
        "# if a pretrained model is specified, load it\n",
        "if \"pretrained_embedding_model\" in hparams:\n",
        "    sb.utils.distributed.run_on_main(hparams[\"pretrained_embedding_model\"].collect_files)\n",
        "    hparams[\"pretrained_embedding_model\"].load_collected(device=device)\n",
        "\n",
        "crybrain.fit(\n",
        "    epoch_counter=crybrain.hparams.epoch_counter,\n",
        "    train_set=datasets[\"train\"],\n",
        "    valid_set=datasets[\"val\"],\n",
        "    train_loader_kwargs=hparams[\"train_dataloader_options\"],\n",
        "    valid_loader_kwargs=hparams[\"val_dataloader_options\"],\n",
        ")"
      ]
    },
    {
      "cell_type": "markdown",
      "metadata": {
        "id": "cVDparawc1YF"
      },
      "source": [
        "You can now use embedding_model.ckpt from this recipe and use it in evaluate.ipynb to verify pairs of cries and submit your results!"
      ]
    }
  ],
  "metadata": {
    "accelerator": "GPU",
    "colab": {
      "gpuType": "T4",
      "provenance": [],
      "toc_visible": true
    },
    "gpuClass": "standard",
    "kernelspec": {
      "display_name": "Python 3 (ipykernel)",
      "language": "python",
      "name": "python3"
    },
    "language_info": {
      "codemirror_mode": {
        "name": "ipython",
        "version": 3
      },
      "file_extension": ".py",
      "mimetype": "text/x-python",
      "name": "python",
      "nbconvert_exporter": "python",
      "pygments_lexer": "ipython3",
      "version": "3.8.16"
    }
  },
  "nbformat": 4,
  "nbformat_minor": 0
}